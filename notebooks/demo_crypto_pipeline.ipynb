{
 "cells": [
  {
   "cell_type": "markdown",
   "id": "074ceed7",
   "metadata": {},
   "source": [
    "# InsightIQ: Meme Coin ML — End-to-End Demo"
   ]
  },
  {
   "cell_type": "code",
   "execution_count": null,
   "id": "4a74a0dc",
   "metadata": {},
   "outputs": [],
   "source": [
    "\n",
    "# Setup (run once)\n",
    "%pip install -q -r requirements.txt\n",
    "import nltk\n",
    "nltk.download('vader_lexicon')\n"
   ]
  },
  {
   "cell_type": "markdown",
   "id": "74bf3355",
   "metadata": {},
   "source": [
    "## 1) Ingest CoinGecko Prices"
   ]
  },
  {
   "cell_type": "code",
   "execution_count": null,
   "id": "7b6550fb",
   "metadata": {},
   "outputs": [],
   "source": [
    "\n",
    "!python src/ingest/fetch_prices.py --coins DOGE,PEPE --days 180 --interval daily --out data/prices.parquet\n",
    "import pandas as pd\n",
    "prices = pd.read_parquet('data/prices.parquet')\n",
    "prices.head()\n"
   ]
  },
  {
   "cell_type": "markdown",
   "id": "95f08c5a",
   "metadata": {},
   "source": [
    "## 2) Build Sentiment Features"
   ]
  },
  {
   "cell_type": "code",
   "execution_count": null,
   "id": "22dc6bf1",
   "metadata": {},
   "outputs": [],
   "source": [
    "\n",
    "!python src/ingest/make_sentiment_features.py --in data/sentiment.csv --out data/sentiment_features.parquet\n",
    "import pandas as pd\n",
    "sent = pd.read_parquet('data/sentiment_features.parquet')\n",
    "sent.head()\n"
   ]
  },
  {
   "cell_type": "markdown",
   "id": "e15a243d",
   "metadata": {},
   "source": [
    "## 3) Engineer Features & Target"
   ]
  },
  {
   "cell_type": "code",
   "execution_count": null,
   "id": "aba8c3c2",
   "metadata": {},
   "outputs": [],
   "source": [
    "\n",
    "!python src/features/build_features.py --prices data/prices.parquet --sent data/sentiment_features.parquet --out data/features.parquet\n",
    "import pandas as pd\n",
    "feat = pd.read_parquet('data/features.parquet')\n",
    "feat.head()\n"
   ]
  },
  {
   "cell_type": "markdown",
   "id": "5d90b2dc",
   "metadata": {},
   "source": [
    "## 4) Plot Price & Sentiment"
   ]
  },
  {
   "cell_type": "code",
   "execution_count": null,
   "id": "8bb437ce",
   "metadata": {},
   "outputs": [],
   "source": [
    "\n",
    "import pandas as pd, matplotlib.pyplot as plt\n",
    "df = prices.merge(sent, on='date', how='left')\n",
    "df = df[df['coin']=='DOGE'].sort_values('date')\n",
    "plt.figure()\n",
    "plt.plot(pd.to_datetime(df['date']), df['price_usd'])\n",
    "plt.title('DOGE Price (USD)'); plt.xlabel('Date'); plt.ylabel('Price'); plt.show()\n",
    "plt.figure()\n",
    "plt.plot(pd.to_datetime(df['date']), df['comp_mean'].fillna(method='ffill'))\n",
    "plt.title('Daily Sentiment (VADER compound)'); plt.xlabel('Date'); plt.ylabel('Compound'); plt.show()\n"
   ]
  },
  {
   "cell_type": "markdown",
   "id": "2bf98c13",
   "metadata": {},
   "source": [
    "## 5) Train & Register Model (MLflow)"
   ]
  },
  {
   "cell_type": "code",
   "execution_count": null,
   "id": "0404dfbc",
   "metadata": {},
   "outputs": [],
   "source": [
    "\n",
    "# Optional: set remote MLflow server\n",
    "# %env MLFLOW_TRACKING_URI=http://127.0.0.1:5001\n",
    "!python src/models/train.py --features data/features.parquet --register_name MemeCoinAlpha\n"
   ]
  },
  {
   "cell_type": "markdown",
   "id": "ed783a5d",
   "metadata": {},
   "source": [
    "## 6) Load the Registered Model and Predict"
   ]
  },
  {
   "cell_type": "code",
   "execution_count": null,
   "id": "dc6e167d",
   "metadata": {},
   "outputs": [],
   "source": [
    "\n",
    "import os, mlflow, mlflow.pyfunc, pandas as pd\n",
    "mlflow.set_tracking_uri(os.getenv('MLFLOW_TRACKING_URI','http://127.0.0.1:5001'))\n",
    "client = mlflow.tracking.MlflowClient()\n",
    "vers = client.search_model_versions(\"name='MemeCoinAlpha'\")\n",
    "version = max(int(v.version) for v in vers) if vers else 1\n",
    "model = mlflow.pyfunc.load_model(f\"models:/MemeCoinAlpha/{version}\")\n",
    "\n",
    "X = pd.read_parquet('data/features.parquet').head(5)[['ret_1d','vol_3d','vol_7d','vol_14d','vol_30d','ret_3d','ret_7d','ret_14d','ret_30d','ma_3d','ma_7d','ma_14d','ma_30d','comp_mean','pos_mean','neg_mean','neu_mean','n_posts']]\n",
    "model.predict(X)\n"
   ]
  }
 ],
 "metadata": {},
 "nbformat": 4,
 "nbformat_minor": 5
}